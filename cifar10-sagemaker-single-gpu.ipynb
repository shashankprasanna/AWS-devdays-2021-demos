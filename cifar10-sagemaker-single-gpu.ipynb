{
 "cells": [
  {
   "cell_type": "markdown",
   "metadata": {},
   "source": [
    "# ***Demo: Single-GPU Training with Amazon SageMaker***"
   ]
  },
  {
   "cell_type": "code",
   "execution_count": 1,
   "metadata": {
    "jupyter": {
     "source_hidden": true
    }
   },
   "outputs": [],
   "source": [
    "# !pip install sagemaker --upgrade -q\n",
    "# !pip install ipywidgets -q\n",
    "# !wget https://raw.githubusercontent.com/awslabs/amazon-sagemaker-examples/master/advanced_functionality/tensorflow_bring_your_own/utils/generate_cifar10_tfrecords.py\n",
    "# !python generate_cifar10_tfrecords.py --data-dir cifar10"
   ]
  },
  {
   "cell_type": "markdown",
   "metadata": {},
   "source": [
    "**Step 1:** Import essentials packages, start a sagemaker session and specify the bucket name you created in the pre-requsites section of this workshop."
   ]
  },
  {
   "cell_type": "code",
   "execution_count": 2,
   "metadata": {},
   "outputs": [],
   "source": [
    "import os\n",
    "import boto3\n",
    "import time\n",
    "import numpy as np\n",
    "import sagemaker\n",
    "\n",
    "sess = boto3.Session()\n",
    "sm   = sess.client('sagemaker')\n",
    "sagemaker_session = sagemaker.Session()\n",
    "role = sagemaker.get_execution_role()\n",
    "\n",
    "bucket_name    = sagemaker_session.default_bucket()\n",
    "jobs_folder    = 'jobs'\n",
    "dataset_folder = 'datasets'"
   ]
  },
  {
   "cell_type": "markdown",
   "metadata": {},
   "source": [
    "![](https://miro.medium.com/max/1000/0*GRfvsrvtfpRm400-)"
   ]
  },
  {
   "cell_type": "markdown",
   "metadata": {},
   "source": [
    "#### Upload dataset if it doesn't exist"
   ]
  },
  {
   "cell_type": "code",
   "execution_count": 3,
   "metadata": {
    "jupyter": {
     "source_hidden": true
    }
   },
   "outputs": [
    {
     "data": {
      "text/plain": [
       "'s3://sagemaker-us-west-2-453691756499/datasets/cifar10-dataset'"
      ]
     },
     "execution_count": 3,
     "metadata": {},
     "output_type": "execute_result"
    }
   ],
   "source": [
    "# datasets = sagemaker_session.upload_data(path='cifar10', key_prefix=f'{dataset_folder}/cifar10-dataset')\n",
    "# datasets\n",
    "\n",
    "#If dataset already exists\n",
    "datasets = f's3://{bucket_name}/{dataset_folder}/cifar10-dataset'\n",
    "datasets"
   ]
  },
  {
   "cell_type": "markdown",
   "metadata": {},
   "source": [
    "**Step 2:** Specify hyperparameters, instance type and number of instances to distribute training to. "
   ]
  },
  {
   "cell_type": "code",
   "execution_count": 4,
   "metadata": {},
   "outputs": [],
   "source": [
    "job_name   = f'tf-single-gpu-{time.strftime(\"%Y-%m-%d-%H-%M-%S-%j\", time.gmtime())}'\n",
    "output_path = f's3://{bucket_name}/{jobs_folder}'\n",
    "\n",
    "metric_definitions = [{'Name': 'Validation Accuracy', 'Regex': 'Validation Accuracy: ([0-9\\\\.]+)'}]\n",
    "\n",
    "hyperparameters = {'epochs'       : 50, \n",
    "                   'learning-rate': 0.01,\n",
    "                   'momentum'     : 0.95,\n",
    "                   'weight-decay' : 2e-4,\n",
    "                   'optimizer'    : 'adam',\n",
    "                   'batch-size'   : 256,\n",
    "                   'model-type'   : 'custom'}\n"
   ]
  },
  {
   "cell_type": "code",
   "execution_count": 5,
   "metadata": {},
   "outputs": [],
   "source": [
    "from sagemaker.debugger import TensorBoardOutputConfig\n",
    "\n",
    "tensorboard_output_config = TensorBoardOutputConfig(\n",
    "    s3_output_path=f's3://{bucket_name}/tensorboard_logs')"
   ]
  },
  {
   "cell_type": "code",
   "execution_count": 6,
   "metadata": {},
   "outputs": [],
   "source": [
    "from sagemaker.tensorflow import TensorFlow\n",
    "estimator = TensorFlow(entry_point         = 'cifar10-tf2.py', \n",
    "                           source_dir           = 'code',\n",
    "                           output_path          = output_path + '/',\n",
    "                           code_location        = output_path,\n",
    "                           role                 = role,\n",
    "                           instance_count       = 1,\n",
    "                           instance_type        = 'ml.p3.2xlarge',\n",
    "                           framework_version    = '2.4', \n",
    "                           py_version           = 'py37',\n",
    "                           metric_definitions   = metric_definitions,\n",
    "                           hyperparameters      = hyperparameters,\n",
    "                           tensorboard_output_config = tensorboard_output_config)"
   ]
  },
  {
   "cell_type": "markdown",
   "metadata": {},
   "source": [
    "**Step 4:** Specify dataset locations in Amazon S3 and then call the fit function."
   ]
  },
  {
   "cell_type": "code",
   "execution_count": 7,
   "metadata": {},
   "outputs": [
    {
     "name": "stdout",
     "output_type": "stream",
     "text": [
      "2021-04-17 23:11:56 Starting - Starting the training job...\n",
      "2021-04-17 23:12:20 Starting - Launching requested ML instancesProfilerReport-1618701116: InProgress\n",
      "......\n",
      "2021-04-17 23:13:20 Starting - Preparing the instances for training.........\n",
      "2021-04-17 23:14:52 Downloading - Downloading input data\n",
      "2021-04-17 23:14:52 Training - Downloading the training image..........\u001b[34m2021-04-17 23:16:31.579638: W tensorflow/core/profiler/internal/smprofiler_timeline.cc:460] Initializing the SageMaker Profiler.\u001b[0m\n",
      "\u001b[34m2021-04-17 23:16:31.584154: W tensorflow/core/profiler/internal/smprofiler_timeline.cc:105] SageMaker Profiler is not enabled. The timeline writer thread will not be started, future recorded events will be dropped.\u001b[0m\n",
      "\u001b[34m2021-04-17 23:16:31.661692: I tensorflow/stream_executor/platform/default/dso_loader.cc:49] Successfully opened dynamic library libcudart.so.11.0\u001b[0m\n",
      "\u001b[34m2021-04-17 23:16:31.745669: W tensorflow/core/profiler/internal/smprofiler_timeline.cc:460] Initializing the SageMaker Profiler.\u001b[0m\n",
      "\u001b[34m2021-04-17 23:16:35,037 sagemaker-training-toolkit INFO     Imported framework sagemaker_tensorflow_container.training\u001b[0m\n",
      "\u001b[34m2021-04-17 23:16:35,430 sagemaker-training-toolkit INFO     Installing dependencies from requirements.txt:\u001b[0m\n",
      "\u001b[34m/usr/local/bin/python3.7 -m pip install -r requirements.txt\u001b[0m\n",
      "\u001b[34mRequirement already satisfied: Pillow in /usr/local/lib/python3.7/site-packages (from -r requirements.txt (line 1)) (7.2.0)\u001b[0m\n",
      "\u001b[34mRequirement already satisfied: numpy in /usr/local/lib/python3.7/site-packages (from -r requirements.txt (line 2)) (1.19.5)\u001b[0m\n",
      "\u001b[34m2021-04-17 23:16:37,119 sagemaker-training-toolkit INFO     Invoking user script\n",
      "\u001b[0m\n",
      "\u001b[34mTraining Env:\n",
      "\u001b[0m\n",
      "\u001b[34m{\n",
      "    \"additional_framework_parameters\": {},\n",
      "    \"channel_input_dirs\": {\n",
      "        \"eval\": \"/opt/ml/input/data/eval\",\n",
      "        \"validation\": \"/opt/ml/input/data/validation\",\n",
      "        \"train\": \"/opt/ml/input/data/train\"\n",
      "    },\n",
      "    \"current_host\": \"algo-1\",\n",
      "    \"framework_module\": \"sagemaker_tensorflow_container.training:main\",\n",
      "    \"hosts\": [\n",
      "        \"algo-1\"\n",
      "    ],\n",
      "    \"hyperparameters\": {\n",
      "        \"model-type\": \"custom\",\n",
      "        \"momentum\": 0.95,\n",
      "        \"batch-size\": 256,\n",
      "        \"learning-rate\": 0.01,\n",
      "        \"optimizer\": \"adam\",\n",
      "        \"model_dir\": \"s3://sagemaker-us-west-2-453691756499/jobs/tf-single-gpu-2021-04-17-23-11-55-107/model\",\n",
      "        \"weight-decay\": 0.0002,\n",
      "        \"epochs\": 50\n",
      "    },\n",
      "    \"input_config_dir\": \"/opt/ml/input/config\",\n",
      "    \"input_data_config\": {\n",
      "        \"eval\": {\n",
      "            \"TrainingInputMode\": \"File\",\n",
      "            \"S3DistributionType\": \"FullyReplicated\",\n",
      "            \"RecordWrapperType\": \"None\"\n",
      "        },\n",
      "        \"validation\": {\n",
      "            \"TrainingInputMode\": \"File\",\n",
      "            \"S3DistributionType\": \"FullyReplicated\",\n",
      "            \"RecordWrapperType\": \"None\"\n",
      "        },\n",
      "        \"train\": {\n",
      "            \"TrainingInputMode\": \"File\",\n",
      "            \"S3DistributionType\": \"FullyReplicated\",\n",
      "            \"RecordWrapperType\": \"None\"\n",
      "        }\n",
      "    },\n",
      "    \"input_dir\": \"/opt/ml/input\",\n",
      "    \"is_master\": true,\n",
      "    \"job_name\": \"tf-single-gpu-2021-04-17-23-11-55-107\",\n",
      "    \"log_level\": 20,\n",
      "    \"master_hostname\": \"algo-1\",\n",
      "    \"model_dir\": \"/opt/ml/model\",\n",
      "    \"module_dir\": \"s3://sagemaker-us-west-2-453691756499/jobs/tf-single-gpu-2021-04-17-23-11-55-107/source/sourcedir.tar.gz\",\n",
      "    \"module_name\": \"cifar10-tf2\",\n",
      "    \"network_interface_name\": \"eth0\",\n",
      "    \"num_cpus\": 8,\n",
      "    \"num_gpus\": 1,\n",
      "    \"output_data_dir\": \"/opt/ml/output/data\",\n",
      "    \"output_dir\": \"/opt/ml/output\",\n",
      "    \"output_intermediate_dir\": \"/opt/ml/output/intermediate\",\n",
      "    \"resource_config\": {\n",
      "        \"current_host\": \"algo-1\",\n",
      "        \"hosts\": [\n",
      "            \"algo-1\"\n",
      "        ],\n",
      "        \"network_interface_name\": \"eth0\"\n",
      "    },\n",
      "    \"user_entry_point\": \"cifar10-tf2.py\"\u001b[0m\n",
      "\u001b[34m}\n",
      "\u001b[0m\n",
      "\u001b[34mEnvironment variables:\n",
      "\u001b[0m\n",
      "\u001b[34mSM_HOSTS=[\"algo-1\"]\u001b[0m\n",
      "\u001b[34mSM_NETWORK_INTERFACE_NAME=eth0\u001b[0m\n",
      "\u001b[34mSM_HPS={\"batch-size\":256,\"epochs\":50,\"learning-rate\":0.01,\"model-type\":\"custom\",\"model_dir\":\"s3://sagemaker-us-west-2-453691756499/jobs/tf-single-gpu-2021-04-17-23-11-55-107/model\",\"momentum\":0.95,\"optimizer\":\"adam\",\"weight-decay\":0.0002}\u001b[0m\n",
      "\u001b[34mSM_USER_ENTRY_POINT=cifar10-tf2.py\u001b[0m\n",
      "\u001b[34mSM_FRAMEWORK_PARAMS={}\u001b[0m\n",
      "\u001b[34mSM_RESOURCE_CONFIG={\"current_host\":\"algo-1\",\"hosts\":[\"algo-1\"],\"network_interface_name\":\"eth0\"}\u001b[0m\n",
      "\u001b[34mSM_INPUT_DATA_CONFIG={\"eval\":{\"RecordWrapperType\":\"None\",\"S3DistributionType\":\"FullyReplicated\",\"TrainingInputMode\":\"File\"},\"train\":{\"RecordWrapperType\":\"None\",\"S3DistributionType\":\"FullyReplicated\",\"TrainingInputMode\":\"File\"},\"validation\":{\"RecordWrapperType\":\"None\",\"S3DistributionType\":\"FullyReplicated\",\"TrainingInputMode\":\"File\"}}\u001b[0m\n",
      "\u001b[34mSM_OUTPUT_DATA_DIR=/opt/ml/output/data\u001b[0m\n",
      "\u001b[34mSM_CHANNELS=[\"eval\",\"train\",\"validation\"]\u001b[0m\n",
      "\u001b[34mSM_CURRENT_HOST=algo-1\u001b[0m\n",
      "\u001b[34mSM_MODULE_NAME=cifar10-tf2\u001b[0m\n",
      "\u001b[34mSM_LOG_LEVEL=20\u001b[0m\n",
      "\u001b[34mSM_FRAMEWORK_MODULE=sagemaker_tensorflow_container.training:main\u001b[0m\n",
      "\u001b[34mSM_INPUT_DIR=/opt/ml/input\u001b[0m\n",
      "\u001b[34mSM_INPUT_CONFIG_DIR=/opt/ml/input/config\u001b[0m\n",
      "\u001b[34mSM_OUTPUT_DIR=/opt/ml/output\u001b[0m\n",
      "\u001b[34mSM_NUM_CPUS=8\u001b[0m\n",
      "\u001b[34mSM_NUM_GPUS=1\u001b[0m\n",
      "\u001b[34mSM_MODEL_DIR=/opt/ml/model\u001b[0m\n",
      "\u001b[34mSM_MODULE_DIR=s3://sagemaker-us-west-2-453691756499/jobs/tf-single-gpu-2021-04-17-23-11-55-107/source/sourcedir.tar.gz\u001b[0m\n",
      "\u001b[34mSM_TRAINING_ENV={\"additional_framework_parameters\":{},\"channel_input_dirs\":{\"eval\":\"/opt/ml/input/data/eval\",\"train\":\"/opt/ml/input/data/train\",\"validation\":\"/opt/ml/input/data/validation\"},\"current_host\":\"algo-1\",\"framework_module\":\"sagemaker_tensorflow_container.training:main\",\"hosts\":[\"algo-1\"],\"hyperparameters\":{\"batch-size\":256,\"epochs\":50,\"learning-rate\":0.01,\"model-type\":\"custom\",\"model_dir\":\"s3://sagemaker-us-west-2-453691756499/jobs/tf-single-gpu-2021-04-17-23-11-55-107/model\",\"momentum\":0.95,\"optimizer\":\"adam\",\"weight-decay\":0.0002},\"input_config_dir\":\"/opt/ml/input/config\",\"input_data_config\":{\"eval\":{\"RecordWrapperType\":\"None\",\"S3DistributionType\":\"FullyReplicated\",\"TrainingInputMode\":\"File\"},\"train\":{\"RecordWrapperType\":\"None\",\"S3DistributionType\":\"FullyReplicated\",\"TrainingInputMode\":\"File\"},\"validation\":{\"RecordWrapperType\":\"None\",\"S3DistributionType\":\"FullyReplicated\",\"TrainingInputMode\":\"File\"}},\"input_dir\":\"/opt/ml/input\",\"is_master\":true,\"job_name\":\"tf-single-gpu-2021-04-17-23-11-55-107\",\"log_level\":20,\"master_hostname\":\"algo-1\",\"model_dir\":\"/opt/ml/model\",\"module_dir\":\"s3://sagemaker-us-west-2-453691756499/jobs/tf-single-gpu-2021-04-17-23-11-55-107/source/sourcedir.tar.gz\",\"module_name\":\"cifar10-tf2\",\"network_interface_name\":\"eth0\",\"num_cpus\":8,\"num_gpus\":1,\"output_data_dir\":\"/opt/ml/output/data\",\"output_dir\":\"/opt/ml/output\",\"output_intermediate_dir\":\"/opt/ml/output/intermediate\",\"resource_config\":{\"current_host\":\"algo-1\",\"hosts\":[\"algo-1\"],\"network_interface_name\":\"eth0\"},\"user_entry_point\":\"cifar10-tf2.py\"}\u001b[0m\n",
      "\u001b[34mSM_USER_ARGS=[\"--batch-size\",\"256\",\"--epochs\",\"50\",\"--learning-rate\",\"0.01\",\"--model-type\",\"custom\",\"--model_dir\",\"s3://sagemaker-us-west-2-453691756499/jobs/tf-single-gpu-2021-04-17-23-11-55-107/model\",\"--momentum\",\"0.95\",\"--optimizer\",\"adam\",\"--weight-decay\",\"0.0002\"]\u001b[0m\n",
      "\u001b[34mSM_OUTPUT_INTERMEDIATE_DIR=/opt/ml/output/intermediate\u001b[0m\n",
      "\u001b[34mSM_CHANNEL_EVAL=/opt/ml/input/data/eval\u001b[0m\n",
      "\u001b[34mSM_CHANNEL_VALIDATION=/opt/ml/input/data/validation\u001b[0m\n",
      "\u001b[34mSM_CHANNEL_TRAIN=/opt/ml/input/data/train\u001b[0m\n",
      "\u001b[34mSM_HP_MODEL-TYPE=custom\u001b[0m\n",
      "\u001b[34mSM_HP_MOMENTUM=0.95\u001b[0m\n",
      "\u001b[34mSM_HP_BATCH-SIZE=256\u001b[0m\n",
      "\u001b[34mSM_HP_LEARNING-RATE=0.01\u001b[0m\n",
      "\u001b[34mSM_HP_OPTIMIZER=adam\u001b[0m\n",
      "\u001b[34mSM_HP_MODEL_DIR=s3://sagemaker-us-west-2-453691756499/jobs/tf-single-gpu-2021-04-17-23-11-55-107/model\u001b[0m\n",
      "\u001b[34mSM_HP_WEIGHT-DECAY=0.0002\u001b[0m\n",
      "\u001b[34mSM_HP_EPOCHS=50\u001b[0m\n",
      "\u001b[34mPYTHONPATH=/opt/ml/code:/usr/local/bin:/usr/local/lib/python37.zip:/usr/local/lib/python3.7:/usr/local/lib/python3.7/lib-dynload:/usr/local/lib/python3.7/site-packages\n",
      "\u001b[0m\n",
      "\u001b[34mInvoking script with the following command:\n",
      "\u001b[0m\n",
      "\u001b[34m/usr/local/bin/python3.7 cifar10-tf2.py --batch-size 256 --epochs 50 --learning-rate 0.01 --model-type custom --model_dir s3://sagemaker-us-west-2-453691756499/jobs/tf-single-gpu-2021-04-17-23-11-55-107/model --momentum 0.95 --optimizer adam --weight-decay 0.0002\n",
      "\n",
      "\u001b[0m\n",
      "\u001b[34m====== Getting model architecture: custom ======\u001b[0m\n",
      "\n",
      "2021-04-17 23:16:41 Training - Training image download completed. Training in progress.\u001b[34m[2021-04-17 23:16:44.427 ip-10-0-252-44.us-west-2.compute.internal:39 INFO utils.py:27] RULE_JOB_STOP_SIGNAL_FILENAME: None\u001b[0m\n",
      "\u001b[34m[2021-04-17 23:16:44.487 ip-10-0-252-44.us-west-2.compute.internal:39 INFO profiler_config_parser.py:102] User has disabled profiler.\u001b[0m\n",
      "\u001b[34m[2021-04-17 23:16:44.489 ip-10-0-252-44.us-west-2.compute.internal:39 INFO json_config.py:91] Creating hook from json_config at /opt/ml/input/config/debughookconfig.json.\u001b[0m\n",
      "\u001b[34m[2021-04-17 23:16:44.490 ip-10-0-252-44.us-west-2.compute.internal:39 INFO hook.py:253] Saving to /opt/ml/output/tensors\u001b[0m\n",
      "\u001b[34m[2021-04-17 23:16:44.490 ip-10-0-252-44.us-west-2.compute.internal:39 INFO state_store.py:77] The checkpoint config file /opt/ml/input/config/checkpointconfig.json does not exist.\u001b[0m\n",
      "\u001b[34m[2021-04-17 23:16:44.490 ip-10-0-252-44.us-west-2.compute.internal:39 INFO hook.py:413] Monitoring the collections: sm_metrics, metrics, losses\u001b[0m\n",
      "\u001b[34mEpoch: 1, Epoch duration: 0.0074880123138427734 sec, Training loss: 2.291274070739746, Training accuracy: 14.603365898132324 Validation Loss: 2.161839723587036, Validation Accuracy: 15.625\u001b[0m\n",
      "\u001b[34mEpoch: 2, Epoch duration: 0.0074160099029541016 sec, Training loss: 1.9857447147369385, Training accuracy: 20.675580978393555 Validation Loss: 1.9247006177902222, Validation Accuracy: 21.464344024658203\u001b[0m\n",
      "\u001b[34mEpoch: 3, Epoch duration: 0.006728649139404297 sec, Training loss: 1.9121369123458862, Training accuracy: 24.13111114501953 Validation Loss: 1.97978937625885, Validation Accuracy: 22.495994567871094\u001b[0m\n",
      "\u001b[34mEpoch: 4, Epoch duration: 0.007307291030883789 sec, Training loss: 1.7964926958084106, Training accuracy: 29.464643478393555 Validation Loss: 1.8536529541015625, Validation Accuracy: 28.325319290161133\u001b[0m\n",
      "\u001b[34mEpoch: 5, Epoch duration: 0.007448673248291016 sec, Training loss: 1.683016300201416, Training accuracy: 34.94340896606445 Validation Loss: 1.7220752239227295, Validation Accuracy: 37.20953369140625\u001b[0m\n",
      "\u001b[34mEpoch: 6, Epoch duration: 0.007295370101928711 sec, Training loss: 1.5363194942474365, Training accuracy: 42.58814239501953 Validation Loss: 1.417303442955017, Validation Accuracy: 49.609375\u001b[0m\n",
      "\u001b[34mEpoch: 7, Epoch duration: 0.007253408432006836 sec, Training loss: 1.3729199171066284, Training accuracy: 50.9765625 Validation Loss: 1.2796838283538818, Validation Accuracy: 54.58734130859375\u001b[0m\n",
      "\u001b[34mEpoch: 8, Epoch duration: 0.007340431213378906 sec, Training loss: 1.2500883340835571, Training accuracy: 56.104766845703125 Validation Loss: 1.3858217000961304, Validation Accuracy: 50.36057662963867\u001b[0m\n",
      "\u001b[34mEpoch: 9, Epoch duration: 0.007103443145751953 sec, Training loss: 1.1516529321670532, Training accuracy: 60.21634292602539 Validation Loss: 1.1927434206008911, Validation Accuracy: 58.66386413574219\u001b[0m\n",
      "\u001b[34mEpoch: 10, Epoch duration: 0.007306098937988281 sec, Training loss: 1.0591305494308472, Training accuracy: 63.78956604003906 Validation Loss: 1.470136284828186, Validation Accuracy: 53.80609130859375\u001b[0m\n",
      "\u001b[34mEpoch: 11, Epoch duration: 0.007392168045043945 sec, Training loss: 1.00967276096344, Training accuracy: 65.830322265625 Validation Loss: 1.1537474393844604, Validation Accuracy: 61.5384635925293\u001b[0m\n",
      "\u001b[34mEpoch: 12, Epoch duration: 0.007369041442871094 sec, Training loss: 0.955715000629425, Training accuracy: 67.90364074707031 Validation Loss: 1.0968282222747803, Validation Accuracy: 63.55168151855469\u001b[0m\n",
      "\u001b[34mEpoch: 13, Epoch duration: 0.007247447967529297 sec, Training loss: 0.9157840013504028, Training accuracy: 69.70652770996094 Validation Loss: 1.0262531042099, Validation Accuracy: 66.97715759277344\u001b[0m\n",
      "\u001b[34mEpoch: 14, Epoch duration: 0.007335186004638672 sec, Training loss: 0.8780192732810974, Training accuracy: 70.76322174072266 Validation Loss: 0.9665697813034058, Validation Accuracy: 69.67147827148438\u001b[0m\n",
      "\u001b[34mEpoch: 15, Epoch duration: 0.007262468338012695 sec, Training loss: 0.840272843837738, Training accuracy: 72.09535217285156 Validation Loss: 0.9315237402915955, Validation Accuracy: 69.57131958007812\u001b[0m\n",
      "\u001b[34mEpoch: 16, Epoch duration: 0.007063150405883789 sec, Training loss: 0.8125186562538147, Training accuracy: 73.11448669433594 Validation Loss: 0.7458227276802063, Validation Accuracy: 74.11859130859375\u001b[0m\n",
      "\u001b[34mEpoch: 17, Epoch duration: 0.007390499114990234 sec, Training loss: 0.7983608245849609, Training accuracy: 73.49008178710938 Validation Loss: 0.8035545945167542, Validation Accuracy: 73.21714782714844\u001b[0m\n",
      "\u001b[34mEpoch: 18, Epoch duration: 0.0072803497314453125 sec, Training loss: 0.776375412940979, Training accuracy: 74.48918151855469 Validation Loss: 0.7209132313728333, Validation Accuracy: 75.46073913574219\u001b[0m\n",
      "\u001b[34mEpoch: 19, Epoch duration: 0.0070095062255859375 sec, Training loss: 0.7439593076705933, Training accuracy: 75.29046630859375 Validation Loss: 0.8701402544975281, Validation Accuracy: 71.77484130859375\u001b[0m\n",
      "\u001b[34mEpoch: 20, Epoch duration: 0.007446765899658203 sec, Training loss: 0.7281705141067505, Training accuracy: 76.07171630859375 Validation Loss: 0.854385495185852, Validation Accuracy: 71.72476196289062\u001b[0m\n",
      "\u001b[34mEpoch: 21, Epoch duration: 0.007313251495361328 sec, Training loss: 0.7217422127723694, Training accuracy: 76.38722229003906 Validation Loss: 0.7260532379150391, Validation Accuracy: 75.34054565429688\u001b[0m\n",
      "\u001b[34mEpoch: 22, Epoch duration: 0.007196903228759766 sec, Training loss: 0.6973603963851929, Training accuracy: 77.26863098144531 Validation Loss: 0.7109923958778381, Validation Accuracy: 75.67107391357422\u001b[0m\n",
      "\u001b[34mEpoch: 23, Epoch duration: 0.007308483123779297 sec, Training loss: 0.687780499458313, Training accuracy: 77.36128234863281 Validation Loss: 0.7268059849739075, Validation Accuracy: 75.47074890136719\u001b[0m\n",
      "\u001b[34mEpoch: 24, Epoch duration: 0.007272481918334961 sec, Training loss: 0.6757650971412659, Training accuracy: 77.8270263671875 Validation Loss: 0.7451211214065552, Validation Accuracy: 75.60096740722656\u001b[0m\n",
      "\u001b[34mEpoch: 25, Epoch duration: 0.006602287292480469 sec, Training loss: 0.659989058971405, Training accuracy: 78.330322265625 Validation Loss: 0.7163337469100952, Validation Accuracy: 76.07171630859375\u001b[0m\n",
      "\u001b[34mEpoch: 26, Epoch duration: 0.006997585296630859 sec, Training loss: 0.6416937708854675, Training accuracy: 79.02644348144531 Validation Loss: 0.657861053943634, Validation Accuracy: 77.91465759277344\u001b[0m\n",
      "\u001b[34mEpoch: 27, Epoch duration: 0.007309913635253906 sec, Training loss: 0.6405559182167053, Training accuracy: 78.82862854003906 Validation Loss: 0.7748093605041504, Validation Accuracy: 73.51762390136719\u001b[0m\n",
      "\u001b[34mEpoch: 28, Epoch duration: 0.007205963134765625 sec, Training loss: 0.6303459405899048, Training accuracy: 79.384521484375 Validation Loss: 0.6376870274543762, Validation Accuracy: 78.916259765625\u001b[0m\n",
      "\u001b[34mEpoch: 29, Epoch duration: 0.008029937744140625 sec, Training loss: 0.6198337078094482, Training accuracy: 79.58233642578125 Validation Loss: 0.7158796787261963, Validation Accuracy: 76.89302825927734\u001b[0m\n",
      "\u001b[34mEpoch: 30, Epoch duration: 0.007226467132568359 sec, Training loss: 0.6090196371078491, Training accuracy: 79.94792175292969 Validation Loss: 0.6309777498245239, Validation Accuracy: 78.73597717285156\u001b[0m\n",
      "\u001b[34mEpoch: 31, Epoch duration: 0.007308244705200195 sec, Training loss: 0.6038165092468262, Training accuracy: 80.17578125 Validation Loss: 0.5960918068885803, Validation Accuracy: 79.697509765625\u001b[0m\n",
      "\u001b[34mEpoch: 32, Epoch duration: 0.007360935211181641 sec, Training loss: 0.5901921987533569, Training accuracy: 80.54637145996094 Validation Loss: 0.6039125323295593, Validation Accuracy: 80.22836303710938\u001b[0m\n",
      "\u001b[34mEpoch: 33, Epoch duration: 0.007191181182861328 sec, Training loss: 0.5894496440887451, Training accuracy: 80.71163940429688 Validation Loss: 0.7433881163597107, Validation Accuracy: 75.68109130859375\u001b[0m\n",
      "\u001b[34mEpoch: 34, Epoch duration: 0.007344961166381836 sec, Training loss: 0.5675174593925476, Training accuracy: 81.11478424072266 Validation Loss: 0.5450705289840698, Validation Accuracy: 81.67066955566406\u001b[0m\n",
      "\u001b[34mEpoch: 35, Epoch duration: 0.007395267486572266 sec, Training loss: 0.5676290392875671, Training accuracy: 81.2850570678711 Validation Loss: 0.5449061989784241, Validation Accuracy: 81.82090759277344\u001b[0m\n",
      "\u001b[34mEpoch: 36, Epoch duration: 0.007369041442871094 sec, Training loss: 0.5570215582847595, Training accuracy: 81.57301330566406 Validation Loss: 0.5588017702102661, Validation Accuracy: 81.27003479003906\u001b[0m\n",
      "\u001b[34mEpoch: 37, Epoch duration: 0.007333993911743164 sec, Training loss: 0.5537263751029968, Training accuracy: 81.67818450927734 Validation Loss: 0.6064165830612183, Validation Accuracy: 80.068115234375\u001b[0m\n",
      "\u001b[34mEpoch: 38, Epoch duration: 0.00693511962890625 sec, Training loss: 0.549393355846405, Training accuracy: 82.06129455566406 Validation Loss: 0.6039410829544067, Validation Accuracy: 79.60737609863281\u001b[0m\n",
      "\u001b[34mEpoch: 39, Epoch duration: 0.007364988327026367 sec, Training loss: 0.5496298670768738, Training accuracy: 81.59805297851562 Validation Loss: 0.6050825119018555, Validation Accuracy: 80.20832824707031\u001b[0m\n",
      "\u001b[34mEpoch: 40, Epoch duration: 0.006803989410400391 sec, Training loss: 0.5361457467079163, Training accuracy: 82.09635925292969 Validation Loss: 0.5355480909347534, Validation Accuracy: 82.66226196289062\u001b[0m\n",
      "\u001b[34mEpoch: 41, Epoch duration: 0.007337808609008789 sec, Training loss: 0.5303893685340881, Training accuracy: 82.63722229003906 Validation Loss: 0.5368771553039551, Validation Accuracy: 82.46194458007812\u001b[0m\n",
      "\u001b[34mEpoch: 42, Epoch duration: 0.00717926025390625 sec, Training loss: 0.5277284979820251, Training accuracy: 82.62970733642578 Validation Loss: 0.5026445388793945, Validation Accuracy: 82.91265869140625\u001b[0m\n",
      "\u001b[34mEpoch: 43, Epoch duration: 0.007292509078979492 sec, Training loss: 0.5209417343139648, Training accuracy: 82.96524047851562 Validation Loss: 0.5339956283569336, Validation Accuracy: 82.39183044433594\u001b[0m\n",
      "\u001b[34mEpoch: 44, Epoch duration: 0.007420539855957031 sec, Training loss: 0.5168376564979553, Training accuracy: 82.86508178710938 Validation Loss: 0.5186136960983276, Validation Accuracy: 82.6221923828125\u001b[0m\n",
      "\u001b[34mEpoch: 45, Epoch duration: 0.007242679595947266 sec, Training loss: 0.5074350833892822, Training accuracy: 83.46354675292969 Validation Loss: 0.48150742053985596, Validation Accuracy: 83.87419891357422\u001b[0m\n",
      "\u001b[34mEpoch: 46, Epoch duration: 0.0073659420013427734 sec, Training loss: 0.5012111663818359, Training accuracy: 83.290771484375 Validation Loss: 0.5508067011833191, Validation Accuracy: 82.18148803710938\u001b[0m\n",
      "\u001b[34mEpoch: 47, Epoch duration: 0.007328033447265625 sec, Training loss: 0.5109773278236389, Training accuracy: 82.96273803710938 Validation Loss: 0.52364581823349, Validation Accuracy: 82.51202392578125\u001b[0m\n",
      "\u001b[34mEpoch: 48, Epoch duration: 0.007089853286743164 sec, Training loss: 0.49819642305374146, Training accuracy: 83.39593505859375 Validation Loss: 0.5003112554550171, Validation Accuracy: 83.3633804321289\u001b[0m\n",
      "\u001b[34mEpoch: 49, Epoch duration: 0.007114887237548828 sec, Training loss: 0.49064818024635315, Training accuracy: 83.72896575927734 Validation Loss: 0.5250216126441956, Validation Accuracy: 82.66226196289062\u001b[0m\n",
      "\u001b[34mEpoch: 50, Epoch duration: 0.007547855377197266 sec, Training loss: 0.4911182224750519, Training accuracy: 83.68389892578125 Validation Loss: 0.5535157322883606, Validation Accuracy: 81.16987609863281\u001b[0m\n",
      "\u001b[34m====== Test Results ======\u001b[0m\n",
      "\u001b[34mTest loss: 0.5847421884536743, Test accuracy: 80.95953369140625\u001b[0m\n",
      "\u001b[34m====== End of training ======\u001b[0m\n",
      "\u001b[34m2021-04-17 23:16:37.263859: W tensorflow/core/profiler/internal/smprofiler_timeline.cc:460] Initializing the SageMaker Profiler.\u001b[0m\n",
      "\u001b[34m2021-04-17 23:16:37.264008: W tensorflow/core/profiler/internal/smprofiler_timeline.cc:105] SageMaker Profiler is not enabled. The timeline writer thread will not be started, future recorded events will be dropped.\u001b[0m\n",
      "\u001b[34m2021-04-17 23:16:37.304537: W tensorflow/core/profiler/internal/smprofiler_timeline.cc:460] Initializing the SageMaker Profiler.\u001b[0m\n",
      "\u001b[34m2021-04-17 23:19:57.326799: W tensorflow/python/util/util.cc:348] Sets are not currently considered sequences, but this may change in the future, so consider avoiding using them.\u001b[0m\n",
      "\u001b[34mINFO:tensorflow:Assets written to: /opt/ml/model/1/assets\u001b[0m\n",
      "\u001b[34mINFO:tensorflow:Assets written to: /opt/ml/model/1/assets\n",
      "\u001b[0m\n",
      "\u001b[34m2021-04-17 23:20:01,701 sagemaker-training-toolkit INFO     Reporting training SUCCESS\u001b[0m\n",
      "\n",
      "2021-04-17 23:20:22 Uploading - Uploading generated training model\n",
      "2021-04-17 23:20:22 Completed - Training job completed\n",
      "ProfilerReport-1618701116: NoIssuesFound\n",
      "Training seconds: 343\n",
      "Billable seconds: 343\n"
     ]
    }
   ],
   "source": [
    "estimator.fit({'train': datasets,\n",
    "                    'validation': datasets,\n",
    "                    'eval': datasets}, \n",
    "                  job_name=job_name, wait=True)"
   ]
  }
 ],
 "metadata": {
  "instance_type": "ml.t3.medium",
  "kernelspec": {
   "display_name": "Python 3 (TensorFlow 2.3 Python 3.7 CPU Optimized)",
   "language": "python",
   "name": "python3__SAGEMAKER_INTERNAL__arn:aws:sagemaker:us-west-2:236514542706:image/tensorflow-2.3-cpu-py37-ubuntu18.04-v1"
  },
  "language_info": {
   "codemirror_mode": {
    "name": "ipython",
    "version": 3
   },
   "file_extension": ".py",
   "mimetype": "text/x-python",
   "name": "python",
   "nbconvert_exporter": "python",
   "pygments_lexer": "ipython3",
   "version": "3.7.10"
  }
 },
 "nbformat": 4,
 "nbformat_minor": 4
}
